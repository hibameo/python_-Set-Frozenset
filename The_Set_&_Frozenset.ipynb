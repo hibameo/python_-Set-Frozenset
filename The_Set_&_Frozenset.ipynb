{
  "nbformat": 4,
  "nbformat_minor": 0,
  "metadata": {
    "colab": {
      "provenance": [],
      "authorship_tag": "ABX9TyP8KwnXxSjqmEfnCIqFGXJy",
      "include_colab_link": true
    },
    "kernelspec": {
      "name": "python3",
      "display_name": "Python 3"
    },
    "language_info": {
      "name": "python"
    }
  },
  "cells": [
    {
      "cell_type": "markdown",
      "metadata": {
        "id": "view-in-github",
        "colab_type": "text"
      },
      "source": [
        "<a href=\"https://colab.research.google.com/github/hibameo/python_-Set-Frozenset/blob/main/The_Set_%26_Frozenset.ipynb\" target=\"_parent\"><img src=\"https://colab.research.google.com/assets/colab-badge.svg\" alt=\"Open In Colab\"/></a>"
      ]
    },
    {
      "cell_type": "markdown",
      "source": [
        "Set aur Frozenset dono Python mein collection types hain, lekin dono mein kuch differences hain jo important hain. Main aapko dono ko achay se samjhaati  hoon:"
      ],
      "metadata": {
        "id": "qwYatRv58HIL"
      }
    },
    {
      "cell_type": "markdown",
      "source": [
        "1. Set\n"
      ],
      "metadata": {
        "id": "5v3llj098YJn"
      }
    },
    {
      "cell_type": "markdown",
      "source": [
        "Set ek unordered collection hai jo unique elements rakhta hai.\n",
        "\n",
        "Aap sets mein elements ko add ya remove kar sakte ho.\n",
        "\n",
        "Sets mutable hote hain, matlab aap unmein changes kar sakte ho."
      ],
      "metadata": {
        "id": "iIAzBApP9l4a"
      }
    },
    {
      "cell_type": "markdown",
      "source": [
        "Example:"
      ],
      "metadata": {
        "id": "apJFDYYj9xQX"
      }
    },
    {
      "cell_type": "code",
      "source": [
        "my_set = {1, 2, 3}\n",
        "my_set.add(4)  # Adding an element\n",
        "my_set.remove(2)  # Removing an element\n",
        "print(my_set)  # Output: {1, 3, 4}\n"
      ],
      "metadata": {
        "colab": {
          "base_uri": "https://localhost:8080/"
        },
        "id": "lcu-xRQe9zPp",
        "outputId": "f83b48d4-ab7a-46c0-83bd-cb20d312585f"
      },
      "execution_count": 1,
      "outputs": [
        {
          "output_type": "stream",
          "name": "stdout",
          "text": [
            "{1, 3, 4}\n"
          ]
        }
      ]
    },
    {
      "cell_type": "markdown",
      "source": [
        "2. Frozenset"
      ],
      "metadata": {
        "id": "PbMO0QKA93XH"
      }
    },
    {
      "cell_type": "markdown",
      "source": [
        "Frozenset bhi ek unordered collection hai, jo unique elements rakhta hai, lekin ek important difference hai: Frozenset immutable hota hai.\n",
        "\n",
        "Matlab aap frozenset mein koi bhi element add ya remove nahi kar sakte.\n",
        "\n",
        "Frozenset ka use jab aapko ek collection chahiye ho jo change na ho sake, tab kiya jata hai."
      ],
      "metadata": {
        "id": "i_iMFCxO-L7N"
      }
    },
    {
      "cell_type": "markdown",
      "source": [
        "Example:\n"
      ],
      "metadata": {
        "id": "cYWlOtaI-OcS"
      }
    },
    {
      "cell_type": "code",
      "source": [
        "my_frozenset = frozenset([1, 2, 3])\n",
        "# Aap frozenset mein koi changes nahi kar sakte\n",
        "# my_frozenset.add(4)  # This will give an error\n",
        "print(my_frozenset)  # Output: frozenset({1, 2, 3})\n"
      ],
      "metadata": {
        "colab": {
          "base_uri": "https://localhost:8080/"
        },
        "id": "R0lSk-Yz-W2T",
        "outputId": "c446f242-b5ab-49c6-be74-0bcac3d0470e"
      },
      "execution_count": 2,
      "outputs": [
        {
          "output_type": "stream",
          "name": "stdout",
          "text": [
            "frozenset({1, 2, 3})\n"
          ]
        }
      ]
    },
    {
      "cell_type": "markdown",
      "source": [
        "Key Differences:\n",
        "Mutability:\n",
        "\n",
        "Set mutable hai (elements add/remove kar sakte hain).\n",
        "\n",
        "Frozenset immutable hai (elements add/remove nahi kar sakte).\n",
        "\n",
        "Use Case:\n",
        "\n",
        "Set ka use jab aapko changeable collection chahiye ho.\n",
        "\n",
        "Frozenset ka use jab aapko ek collection chahiye ho jo change na ho sake.\n",
        "\n",
        "Is tarah, agar aapko ek aise collection ki zarurat ho jo constant ho (change na ho), toh frozenset use karenge, aur agar aapko set jaisa collection chahiye ho jisme changes kar sakte hain, toh set use karenge.\n",
        "\n",
        "\n",
        "\n",
        "\n",
        "\n",
        "\n",
        "\n",
        "\n",
        "\n",
        "\n"
      ],
      "metadata": {
        "id": "Xmr-asBt-fxi"
      }
    }
  ]
}